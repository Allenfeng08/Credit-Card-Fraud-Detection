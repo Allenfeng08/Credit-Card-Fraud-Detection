{
 "cells": [
  {
   "cell_type": "code",
   "execution_count": 1,
   "metadata": {},
   "outputs": [],
   "source": [
    "import warnings\n",
    "warnings.filterwarnings(action='ignore',category=DeprecationWarning)\n",
    "warnings.filterwarnings(action='ignore',category=FutureWarning)\n",
    "warnings.filterwarnings('ignore')"
   ]
  },
  {
   "cell_type": "code",
   "execution_count": 2,
   "metadata": {},
   "outputs": [
    {
     "name": "stderr",
     "output_type": "stream",
     "text": [
      "Using TensorFlow backend.\n"
     ]
    }
   ],
   "source": [
    "import pandas as pd\n",
    "import numpy as np\n",
    "import tensorflow as tf\n",
    "import xgboost as xgb\n",
    "import matplotlib.pyplot as plt\n",
    "import seaborn as sns\n",
    "import statistics as stat\n",
    "import sklearn.metrics as metrics\n",
    "from sklearn.svm import SVC\n",
    "from sklearn.model_selection import StratifiedKFold\n",
    "from sklearn.metrics import roc_auc_score\n",
    "from sklearn.metrics import accuracy_score\n",
    "from sklearn.model_selection import train_test_split\n",
    "from sklearn.mixture import GaussianMixture\n",
    "from sklearn.decomposition import PCA\n",
    "from sklearn.tree import DecisionTreeRegressor\n",
    "from sklearn.model_selection import GridSearchCV\n",
    "from sklearn.preprocessing import Imputer\n",
    "from sklearn.neural_network import MLPClassifier\n",
    "from sklearn.metrics import confusion_matrix\n",
    "from sklearn.preprocessing import StandardScaler\n",
    "from sklearn.manifold import TSNE\n",
    "from sklearn.utils import shuffle\n",
    "from sklearn.linear_model import LogisticRegression, Ridge, Lasso\n",
    "from sklearn.utils import resample\n",
    "from sklearn.metrics import classification_report\n",
    "from sklearn.metrics import precision_recall_curve\n",
    "from sklearn.metrics import average_precision_score\n",
    "from imblearn.over_sampling import SMOTE"
   ]
  },
  {
   "cell_type": "code",
   "execution_count": 4,
   "metadata": {},
   "outputs": [],
   "source": [
    "### Data pre-processing"
   ]
  },
  {
   "cell_type": "code",
   "execution_count": 3,
   "metadata": {},
   "outputs": [],
   "source": [
    "df = pd.read_csv('creditcard.csv', index_col=0)"
   ]
  },
  {
   "cell_type": "code",
   "execution_count": 6,
   "metadata": {
    "scrolled": true
   },
   "outputs": [
    {
     "data": {
      "text/html": [
       "<div>\n",
       "<style scoped>\n",
       "    .dataframe tbody tr th:only-of-type {\n",
       "        vertical-align: middle;\n",
       "    }\n",
       "\n",
       "    .dataframe tbody tr th {\n",
       "        vertical-align: top;\n",
       "    }\n",
       "\n",
       "    .dataframe thead th {\n",
       "        text-align: right;\n",
       "    }\n",
       "</style>\n",
       "<table border=\"1\" class=\"dataframe\">\n",
       "  <thead>\n",
       "    <tr style=\"text-align: right;\">\n",
       "      <th></th>\n",
       "      <th>V1</th>\n",
       "      <th>V2</th>\n",
       "      <th>V3</th>\n",
       "      <th>V4</th>\n",
       "      <th>V5</th>\n",
       "      <th>V6</th>\n",
       "      <th>V7</th>\n",
       "      <th>V8</th>\n",
       "      <th>V9</th>\n",
       "      <th>V10</th>\n",
       "      <th>...</th>\n",
       "      <th>V21</th>\n",
       "      <th>V22</th>\n",
       "      <th>V23</th>\n",
       "      <th>V24</th>\n",
       "      <th>V25</th>\n",
       "      <th>V26</th>\n",
       "      <th>V27</th>\n",
       "      <th>V28</th>\n",
       "      <th>Amount</th>\n",
       "      <th>Class</th>\n",
       "    </tr>\n",
       "  </thead>\n",
       "  <tbody>\n",
       "    <tr>\n",
       "      <th>count</th>\n",
       "      <td>2.848070e+05</td>\n",
       "      <td>2.848070e+05</td>\n",
       "      <td>2.848070e+05</td>\n",
       "      <td>2.848070e+05</td>\n",
       "      <td>2.848070e+05</td>\n",
       "      <td>2.848070e+05</td>\n",
       "      <td>2.848070e+05</td>\n",
       "      <td>2.848070e+05</td>\n",
       "      <td>2.848070e+05</td>\n",
       "      <td>2.848070e+05</td>\n",
       "      <td>...</td>\n",
       "      <td>2.848070e+05</td>\n",
       "      <td>2.848070e+05</td>\n",
       "      <td>2.848070e+05</td>\n",
       "      <td>2.848070e+05</td>\n",
       "      <td>2.848070e+05</td>\n",
       "      <td>2.848070e+05</td>\n",
       "      <td>2.848070e+05</td>\n",
       "      <td>2.848070e+05</td>\n",
       "      <td>284807.000000</td>\n",
       "      <td>284807.000000</td>\n",
       "    </tr>\n",
       "    <tr>\n",
       "      <th>mean</th>\n",
       "      <td>3.919560e-15</td>\n",
       "      <td>5.688174e-16</td>\n",
       "      <td>-8.769071e-15</td>\n",
       "      <td>2.782312e-15</td>\n",
       "      <td>-1.552563e-15</td>\n",
       "      <td>2.010663e-15</td>\n",
       "      <td>-1.694249e-15</td>\n",
       "      <td>-1.927028e-16</td>\n",
       "      <td>-3.137024e-15</td>\n",
       "      <td>1.768627e-15</td>\n",
       "      <td>...</td>\n",
       "      <td>1.537294e-16</td>\n",
       "      <td>7.959909e-16</td>\n",
       "      <td>5.367590e-16</td>\n",
       "      <td>4.458112e-15</td>\n",
       "      <td>1.453003e-15</td>\n",
       "      <td>1.699104e-15</td>\n",
       "      <td>-3.660161e-16</td>\n",
       "      <td>-1.206049e-16</td>\n",
       "      <td>88.349619</td>\n",
       "      <td>0.001727</td>\n",
       "    </tr>\n",
       "    <tr>\n",
       "      <th>std</th>\n",
       "      <td>1.958696e+00</td>\n",
       "      <td>1.651309e+00</td>\n",
       "      <td>1.516255e+00</td>\n",
       "      <td>1.415869e+00</td>\n",
       "      <td>1.380247e+00</td>\n",
       "      <td>1.332271e+00</td>\n",
       "      <td>1.237094e+00</td>\n",
       "      <td>1.194353e+00</td>\n",
       "      <td>1.098632e+00</td>\n",
       "      <td>1.088850e+00</td>\n",
       "      <td>...</td>\n",
       "      <td>7.345240e-01</td>\n",
       "      <td>7.257016e-01</td>\n",
       "      <td>6.244603e-01</td>\n",
       "      <td>6.056471e-01</td>\n",
       "      <td>5.212781e-01</td>\n",
       "      <td>4.822270e-01</td>\n",
       "      <td>4.036325e-01</td>\n",
       "      <td>3.300833e-01</td>\n",
       "      <td>250.120109</td>\n",
       "      <td>0.041527</td>\n",
       "    </tr>\n",
       "    <tr>\n",
       "      <th>min</th>\n",
       "      <td>-5.640751e+01</td>\n",
       "      <td>-7.271573e+01</td>\n",
       "      <td>-4.832559e+01</td>\n",
       "      <td>-5.683171e+00</td>\n",
       "      <td>-1.137433e+02</td>\n",
       "      <td>-2.616051e+01</td>\n",
       "      <td>-4.355724e+01</td>\n",
       "      <td>-7.321672e+01</td>\n",
       "      <td>-1.343407e+01</td>\n",
       "      <td>-2.458826e+01</td>\n",
       "      <td>...</td>\n",
       "      <td>-3.483038e+01</td>\n",
       "      <td>-1.093314e+01</td>\n",
       "      <td>-4.480774e+01</td>\n",
       "      <td>-2.836627e+00</td>\n",
       "      <td>-1.029540e+01</td>\n",
       "      <td>-2.604551e+00</td>\n",
       "      <td>-2.256568e+01</td>\n",
       "      <td>-1.543008e+01</td>\n",
       "      <td>0.000000</td>\n",
       "      <td>0.000000</td>\n",
       "    </tr>\n",
       "    <tr>\n",
       "      <th>25%</th>\n",
       "      <td>-9.203734e-01</td>\n",
       "      <td>-5.985499e-01</td>\n",
       "      <td>-8.903648e-01</td>\n",
       "      <td>-8.486401e-01</td>\n",
       "      <td>-6.915971e-01</td>\n",
       "      <td>-7.682956e-01</td>\n",
       "      <td>-5.540759e-01</td>\n",
       "      <td>-2.086297e-01</td>\n",
       "      <td>-6.430976e-01</td>\n",
       "      <td>-5.354257e-01</td>\n",
       "      <td>...</td>\n",
       "      <td>-2.283949e-01</td>\n",
       "      <td>-5.423504e-01</td>\n",
       "      <td>-1.618463e-01</td>\n",
       "      <td>-3.545861e-01</td>\n",
       "      <td>-3.171451e-01</td>\n",
       "      <td>-3.269839e-01</td>\n",
       "      <td>-7.083953e-02</td>\n",
       "      <td>-5.295979e-02</td>\n",
       "      <td>5.600000</td>\n",
       "      <td>0.000000</td>\n",
       "    </tr>\n",
       "    <tr>\n",
       "      <th>50%</th>\n",
       "      <td>1.810880e-02</td>\n",
       "      <td>6.548556e-02</td>\n",
       "      <td>1.798463e-01</td>\n",
       "      <td>-1.984653e-02</td>\n",
       "      <td>-5.433583e-02</td>\n",
       "      <td>-2.741871e-01</td>\n",
       "      <td>4.010308e-02</td>\n",
       "      <td>2.235804e-02</td>\n",
       "      <td>-5.142873e-02</td>\n",
       "      <td>-9.291738e-02</td>\n",
       "      <td>...</td>\n",
       "      <td>-2.945017e-02</td>\n",
       "      <td>6.781943e-03</td>\n",
       "      <td>-1.119293e-02</td>\n",
       "      <td>4.097606e-02</td>\n",
       "      <td>1.659350e-02</td>\n",
       "      <td>-5.213911e-02</td>\n",
       "      <td>1.342146e-03</td>\n",
       "      <td>1.124383e-02</td>\n",
       "      <td>22.000000</td>\n",
       "      <td>0.000000</td>\n",
       "    </tr>\n",
       "    <tr>\n",
       "      <th>75%</th>\n",
       "      <td>1.315642e+00</td>\n",
       "      <td>8.037239e-01</td>\n",
       "      <td>1.027196e+00</td>\n",
       "      <td>7.433413e-01</td>\n",
       "      <td>6.119264e-01</td>\n",
       "      <td>3.985649e-01</td>\n",
       "      <td>5.704361e-01</td>\n",
       "      <td>3.273459e-01</td>\n",
       "      <td>5.971390e-01</td>\n",
       "      <td>4.539234e-01</td>\n",
       "      <td>...</td>\n",
       "      <td>1.863772e-01</td>\n",
       "      <td>5.285536e-01</td>\n",
       "      <td>1.476421e-01</td>\n",
       "      <td>4.395266e-01</td>\n",
       "      <td>3.507156e-01</td>\n",
       "      <td>2.409522e-01</td>\n",
       "      <td>9.104512e-02</td>\n",
       "      <td>7.827995e-02</td>\n",
       "      <td>77.165000</td>\n",
       "      <td>0.000000</td>\n",
       "    </tr>\n",
       "    <tr>\n",
       "      <th>max</th>\n",
       "      <td>2.454930e+00</td>\n",
       "      <td>2.205773e+01</td>\n",
       "      <td>9.382558e+00</td>\n",
       "      <td>1.687534e+01</td>\n",
       "      <td>3.480167e+01</td>\n",
       "      <td>7.330163e+01</td>\n",
       "      <td>1.205895e+02</td>\n",
       "      <td>2.000721e+01</td>\n",
       "      <td>1.559499e+01</td>\n",
       "      <td>2.374514e+01</td>\n",
       "      <td>...</td>\n",
       "      <td>2.720284e+01</td>\n",
       "      <td>1.050309e+01</td>\n",
       "      <td>2.252841e+01</td>\n",
       "      <td>4.584549e+00</td>\n",
       "      <td>7.519589e+00</td>\n",
       "      <td>3.517346e+00</td>\n",
       "      <td>3.161220e+01</td>\n",
       "      <td>3.384781e+01</td>\n",
       "      <td>25691.160000</td>\n",
       "      <td>1.000000</td>\n",
       "    </tr>\n",
       "  </tbody>\n",
       "</table>\n",
       "<p>8 rows × 30 columns</p>\n",
       "</div>"
      ],
      "text/plain": [
       "                 V1            V2            V3            V4            V5  \\\n",
       "count  2.848070e+05  2.848070e+05  2.848070e+05  2.848070e+05  2.848070e+05   \n",
       "mean   3.919560e-15  5.688174e-16 -8.769071e-15  2.782312e-15 -1.552563e-15   \n",
       "std    1.958696e+00  1.651309e+00  1.516255e+00  1.415869e+00  1.380247e+00   \n",
       "min   -5.640751e+01 -7.271573e+01 -4.832559e+01 -5.683171e+00 -1.137433e+02   \n",
       "25%   -9.203734e-01 -5.985499e-01 -8.903648e-01 -8.486401e-01 -6.915971e-01   \n",
       "50%    1.810880e-02  6.548556e-02  1.798463e-01 -1.984653e-02 -5.433583e-02   \n",
       "75%    1.315642e+00  8.037239e-01  1.027196e+00  7.433413e-01  6.119264e-01   \n",
       "max    2.454930e+00  2.205773e+01  9.382558e+00  1.687534e+01  3.480167e+01   \n",
       "\n",
       "                 V6            V7            V8            V9           V10  \\\n",
       "count  2.848070e+05  2.848070e+05  2.848070e+05  2.848070e+05  2.848070e+05   \n",
       "mean   2.010663e-15 -1.694249e-15 -1.927028e-16 -3.137024e-15  1.768627e-15   \n",
       "std    1.332271e+00  1.237094e+00  1.194353e+00  1.098632e+00  1.088850e+00   \n",
       "min   -2.616051e+01 -4.355724e+01 -7.321672e+01 -1.343407e+01 -2.458826e+01   \n",
       "25%   -7.682956e-01 -5.540759e-01 -2.086297e-01 -6.430976e-01 -5.354257e-01   \n",
       "50%   -2.741871e-01  4.010308e-02  2.235804e-02 -5.142873e-02 -9.291738e-02   \n",
       "75%    3.985649e-01  5.704361e-01  3.273459e-01  5.971390e-01  4.539234e-01   \n",
       "max    7.330163e+01  1.205895e+02  2.000721e+01  1.559499e+01  2.374514e+01   \n",
       "\n",
       "       ...           V21           V22           V23           V24  \\\n",
       "count  ...  2.848070e+05  2.848070e+05  2.848070e+05  2.848070e+05   \n",
       "mean   ...  1.537294e-16  7.959909e-16  5.367590e-16  4.458112e-15   \n",
       "std    ...  7.345240e-01  7.257016e-01  6.244603e-01  6.056471e-01   \n",
       "min    ... -3.483038e+01 -1.093314e+01 -4.480774e+01 -2.836627e+00   \n",
       "25%    ... -2.283949e-01 -5.423504e-01 -1.618463e-01 -3.545861e-01   \n",
       "50%    ... -2.945017e-02  6.781943e-03 -1.119293e-02  4.097606e-02   \n",
       "75%    ...  1.863772e-01  5.285536e-01  1.476421e-01  4.395266e-01   \n",
       "max    ...  2.720284e+01  1.050309e+01  2.252841e+01  4.584549e+00   \n",
       "\n",
       "                V25           V26           V27           V28         Amount  \\\n",
       "count  2.848070e+05  2.848070e+05  2.848070e+05  2.848070e+05  284807.000000   \n",
       "mean   1.453003e-15  1.699104e-15 -3.660161e-16 -1.206049e-16      88.349619   \n",
       "std    5.212781e-01  4.822270e-01  4.036325e-01  3.300833e-01     250.120109   \n",
       "min   -1.029540e+01 -2.604551e+00 -2.256568e+01 -1.543008e+01       0.000000   \n",
       "25%   -3.171451e-01 -3.269839e-01 -7.083953e-02 -5.295979e-02       5.600000   \n",
       "50%    1.659350e-02 -5.213911e-02  1.342146e-03  1.124383e-02      22.000000   \n",
       "75%    3.507156e-01  2.409522e-01  9.104512e-02  7.827995e-02      77.165000   \n",
       "max    7.519589e+00  3.517346e+00  3.161220e+01  3.384781e+01   25691.160000   \n",
       "\n",
       "               Class  \n",
       "count  284807.000000  \n",
       "mean        0.001727  \n",
       "std         0.041527  \n",
       "min         0.000000  \n",
       "25%         0.000000  \n",
       "50%         0.000000  \n",
       "75%         0.000000  \n",
       "max         1.000000  \n",
       "\n",
       "[8 rows x 30 columns]"
      ]
     },
     "execution_count": 6,
     "metadata": {},
     "output_type": "execute_result"
    }
   ],
   "source": [
    "df.describe()"
   ]
  },
  {
   "cell_type": "code",
   "execution_count": 7,
   "metadata": {},
   "outputs": [],
   "source": [
    "### Oversampling"
   ]
  },
  {
   "cell_type": "code",
   "execution_count": 4,
   "metadata": {},
   "outputs": [
    {
     "name": "stdout",
     "output_type": "stream",
     "text": [
      "Number transactions X_train dataset:  (227845, 29)\n",
      "Number transactions y_train dataset:  (227845,)\n",
      "Number transactions X_test dataset:  (56962, 29)\n",
      "Number transactions y_test dataset:  (56962,)\n"
     ]
    }
   ],
   "source": [
    "X = df.iloc[:,0:29]\n",
    "y = df.iloc[:,29]\n",
    "\n",
    "X_train_1, X_test_1, y_train_1, y_test_1 = train_test_split(X, y, stratify = y, test_size = 0.2)\n",
    "\n",
    "print(\"Number transactions X_train dataset: \", X_train_1.shape)\n",
    "print(\"Number transactions y_train dataset: \", y_train_1.shape)\n",
    "print(\"Number transactions X_test dataset: \", X_test_1.shape)\n",
    "print(\"Number transactions y_test dataset: \", y_test_1.shape)"
   ]
  },
  {
   "cell_type": "code",
   "execution_count": 9,
   "metadata": {},
   "outputs": [
    {
     "name": "stdout",
     "output_type": "stream",
     "text": [
      "After OverSampling, the shape of X_train_over: (454902, 29)\n",
      "After OverSampling, the shape of y_train_over: (454902,) \n",
      "\n",
      "After OverSampling, counts of label '1': 227451\n",
      "After OverSampling, counts of label '0': 227451 \n",
      "\n",
      "The shape of X_test_over: (56962, 29)\n",
      "The shape of y_test_over: (56962,) \n",
      "\n"
     ]
    }
   ],
   "source": [
    "res = SMOTE(random_state=1)\n",
    "X_train_over, y_train_over = res.fit_sample(X_train_1, y_train_1.ravel())\n",
    "X_test_over, y_test_over = X_test_1, y_test_1\n",
    "\n",
    "print('After OverSampling, the shape of X_train_over: {}'.format(X_train_over.shape))\n",
    "print('After OverSampling, the shape of y_train_over: {} \\n'.format(y_train_over.shape))\n",
    "print(\"After OverSampling, counts of label '1': {}\".format(sum(y_train_over==1)))\n",
    "print(\"After OverSampling, counts of label '0': {} \\n\".format(sum(y_train_over==0)))\n",
    "print('The shape of X_test_over: {}'.format(X_test_over.shape))\n",
    "print('The shape of y_test_over: {} \\n'.format(y_test_over.shape))"
   ]
  },
  {
   "cell_type": "code",
   "execution_count": 10,
   "metadata": {},
   "outputs": [],
   "source": [
    "### Undersampling"
   ]
  },
  {
   "cell_type": "code",
   "execution_count": 11,
   "metadata": {},
   "outputs": [],
   "source": [
    "X_train_2, X_test_2, y_train_2, y_test_2 = train_test_split(X, y, stratify=y, test_size=0.2)\n",
    "\n",
    "df_train_under = pd.concat([X_train_2,y_train_2],axis=1)\n",
    "fraudlent = df_train_under.loc[df_train_under['Class'] == 1]\n",
    "legitimate = df_train_under.loc[df_train_under['Class'] == 0]\n",
    "legitimate_undersampling = legitimate.sample(n = len(fraudlent))\n",
    "frames = [fraudlent,legitimate_undersampling]\n",
    "df_undersampling = pd.concat(frames)"
   ]
  },
  {
   "cell_type": "code",
   "execution_count": 12,
   "metadata": {
    "scrolled": true
   },
   "outputs": [
    {
     "name": "stdout",
     "output_type": "stream",
     "text": [
      "After UnderSampling, the shape of X_train_under: (788, 29)\n",
      "After UnderSampling, the shape of y_train_under: (788,) \n",
      "\n",
      "After UnderSampling, counts of label '1': 394\n",
      "After UnderSampling, counts of label '0': 394 \n",
      "\n",
      "The shape of X_test_under: (56962, 29)\n",
      "The shape of y_test_under: (56962,) \n",
      "\n"
     ]
    }
   ],
   "source": [
    "X_train_under = df_undersampling.iloc[:,0:29]\n",
    "y_train_under = df_undersampling.iloc[:,29]\n",
    "X_test_under = X_test_2\n",
    "y_test_under = y_test_2\n",
    "\n",
    "print('After UnderSampling, the shape of X_train_under: {}'.format(X_train_under.shape))\n",
    "print('After UnderSampling, the shape of y_train_under: {} \\n'.format(y_train_under.shape))\n",
    "print(\"After UnderSampling, counts of label '1': {}\".format(sum(y_train_under==1)))\n",
    "print(\"After UnderSampling, counts of label '0': {} \\n\".format(sum(y_train_under==0)))\n",
    "print('The shape of X_test_under: {}'.format(X_test_under.shape))\n",
    "print('The shape of y_test_under: {} \\n'.format(y_test_under.shape))"
   ]
  },
  {
   "cell_type": "code",
   "execution_count": 23,
   "metadata": {},
   "outputs": [],
   "source": [
    "### Neural Network"
   ]
  },
  {
   "cell_type": "code",
   "execution_count": 24,
   "metadata": {},
   "outputs": [],
   "source": [
    "### Undersampling"
   ]
  },
  {
   "cell_type": "code",
   "execution_count": 25,
   "metadata": {},
   "outputs": [],
   "source": [
    "n = 25\n",
    "two_hidden_layer = []\n",
    "three_hidden_layer = []\n",
    "\n",
    "for i in range(2,n,2):\n",
    "    for j in range(2,n,2):\n",
    "        if j <= i:\n",
    "            two_hidden_layer.append((i,j))\n",
    "\n",
    "for i in range(2,n,2):\n",
    "    for j in range(2,n,2):\n",
    "        for k in range(2,n,2):\n",
    "            if j <= i and k <=j:\n",
    "                three_hidden_layer.append((i,j,k))\n",
    "                \n",
    "layer_node = two_hidden_layer + three_hidden_layer"
   ]
  },
  {
   "cell_type": "code",
   "execution_count": 26,
   "metadata": {},
   "outputs": [
    {
     "data": {
      "text/plain": [
       "array([[54293,  2571],\n",
       "       [    5,    93]], dtype=int64)"
      ]
     },
     "execution_count": 26,
     "metadata": {},
     "output_type": "execute_result"
    }
   ],
   "source": [
    "nn_under_cv = MLPClassifier(solver='adam', alpha=1e-4, random_state=1)\n",
    "nn_hyperparam_dict_under = {'hidden_layer_sizes': [], 'activation': []}\n",
    "\n",
    "parameters = {\n",
    "'hidden_layer_sizes': layer_node,\n",
    "'activation': ['logistic', 'tanh']\n",
    "}\n",
    "\n",
    "nn_under_cv = GridSearchCV(estimator = nn_under_cv, param_grid = parameters, cv = 5)\n",
    "nn_under_cv.fit(X_train_under, y_train_under)\n",
    "\n",
    "nn_hyperparam_dict_under['hidden_layer_sizes'].append(nn_under_cv.best_params_['hidden_layer_sizes'])\n",
    "nn_hyperparam_dict_under['activation'].append(nn_under_cv.best_params_['activation'])\n",
    "\n",
    "nn_pred_cv_under = nn_under_cv.predict(X_test_under)\n",
    "confusion_matrix(y_test_under, nn_pred_cv_under)"
   ]
  },
  {
   "cell_type": "code",
   "execution_count": 36,
   "metadata": {},
   "outputs": [
    {
     "data": {
      "text/plain": [
       "{'hidden_layer_sizes': [(24, 18)], 'activation': ['logistic']}"
      ]
     },
     "execution_count": 36,
     "metadata": {},
     "output_type": "execute_result"
    }
   ],
   "source": [
    "nn_hyperparam_dict_under"
   ]
  },
  {
   "cell_type": "code",
   "execution_count": 69,
   "metadata": {},
   "outputs": [
    {
     "data": {
      "image/png": "[encoded data removed]",
      "text/plain": [
       "<Figure size 432x288 with 1 Axes>"
      ]
     },
     "metadata": {
      "needs_background": "light"
     },
     "output_type": "display_data"
    }
   ],
   "source": [
    "nn_pred_prob_under = nn_under_cv.predict_proba(X_test_under)[:,1]\n",
    "\n",
    "fpr_nn_under, tpr_nn_under, roc_threshold_nn_under = metrics.roc_curve(y_test_under, nn_pred_prob_under)\n",
    "roc_auc_nn_under = metrics.auc(fpr_nn_under, tpr_nn_under)\n",
    "\n",
    "plt.title('ROC of neural network with undersampling')\n",
    "plt.plot(fpr_nn_under, tpr_nn_under, 'b', label = 'AUC = %0.2f' % roc_auc_nn_under)\n",
    "plt.legend(loc = 'lower right')\n",
    "plt.plot([0, 1], [0, 1],'r--')\n",
    "plt.xlim([0, 1])\n",
    "plt.ylim([0, 1])\n",
    "plt.ylabel('True Positive Rate')\n",
    "plt.xlabel('False Positive Rate')\n",
    "plt.show()"
   ]
  },
  {
   "cell_type": "code",
   "execution_count": 79,
   "metadata": {},
   "outputs": [
    {
     "data": {
      "image/png": "[encoded data removed]",
      "text/plain": [
       "<Figure size 432x288 with 1 Axes>"
      ]
     },
     "metadata": {
      "needs_background": "light"
     },
     "output_type": "display_data"
    }
   ],
   "source": [
    "precision_nn_under, recall_nn_under, prc_threshold_nn_under = precision_recall_curve(y_test_under, nn_pred_prob_under)\n",
    "average_precision_nn_under = average_precision_score(y_test_under, nn_pred_prob_under)\n",
    "\n",
    "plt.title('PRC of neural network with undersampling')\n",
    "plt.plot(recall_nn_under, precision_nn_under, 'b', label = 'Average Precision = %0.2f' % average_precision_nn_under)\n",
    "plt.legend(loc = 'lower left')\n",
    "plt.xlim([0, 1])\n",
    "plt.ylim([0, 1])\n",
    "plt.ylabel('Precision')\n",
    "plt.xlabel('Recall')\n",
    "plt.show()"
   ]
  },
  {
   "cell_type": "code",
   "execution_count": null,
   "metadata": {},
   "outputs": [],
   "source": []
  },
  {
   "cell_type": "code",
   "execution_count": null,
   "metadata": {},
   "outputs": [],
   "source": [
    "### Oversampling"
   ]
  },
  {
   "cell_type": "code",
   "execution_count": 37,
   "metadata": {},
   "outputs": [
    {
     "data": {
      "text/plain": [
       "array([[56769,    95],\n",
       "       [   10,    88]], dtype=int64)"
      ]
     },
     "execution_count": 37,
     "metadata": {},
     "output_type": "execute_result"
    }
   ],
   "source": [
    "nn_over = MLPClassifier(activation='logistic', solver='adam', alpha=1e-4, hidden_layer_sizes=(24,18), random_state=1)\n",
    "nn_over.fit(X_train_over, y_train_over)\n",
    "y_pred_over = nn_over.predict(X_test_over)\n",
    "confusion_matrix(y_test_over, y_pred_over)"
   ]
  },
  {
   "cell_type": "code",
   "execution_count": 70,
   "metadata": {},
   "outputs": [
    {
     "data": {
      "image/png": "[encoded data removed]",
      "text/plain": [
       "<Figure size 432x288 with 1 Axes>"
      ]
     },
     "metadata": {
      "needs_background": "light"
     },
     "output_type": "display_data"
    }
   ],
   "source": [
    "nn_pred_prob_over = nn_over.predict_proba(X_test_over)[:,1]\n",
    "\n",
    "fpr_nn_over, tpr_nn_over, roc_threshold_nn_over = metrics.roc_curve(y_test_over, nn_pred_prob_over)\n",
    "roc_auc_nn_over = metrics.auc(fpr_nn_over, tpr_nn_over)\n",
    "\n",
    "plt.title('ROC of neural network with oversampling')\n",
    "plt.plot(fpr_nn_over, tpr_nn_over, 'b', label = 'AUC = %0.2f' % roc_auc_nn_over)\n",
    "plt.legend(loc = 'lower right')\n",
    "plt.plot([0, 1], [0, 1],'r--')\n",
    "plt.xlim([0, 1])\n",
    "plt.ylim([0, 1])\n",
    "plt.ylabel('True Positive Rate')\n",
    "plt.xlabel('False Positive Rate')\n",
    "plt.show()"
   ]
  },
  {
   "cell_type": "code",
   "execution_count": 80,
   "metadata": {},
   "outputs": [
    {
     "data": {
      "image/png": "[encoded data removed]",
      "text/plain": [
       "<Figure size 432x288 with 1 Axes>"
      ]
     },
     "metadata": {
      "needs_background": "light"
     },
     "output_type": "display_data"
    }
   ],
   "source": [
    "precision_nn_over, recall_nn_over, prc_threshold_nn_over = precision_recall_curve(y_test_over, nn_pred_prob_over)\n",
    "average_precision_nn_over = average_precision_score(y_test_over, nn_pred_prob_over)\n",
    "\n",
    "plt.title('PRC of neural network with oversampling')\n",
    "plt.plot(recall_nn_over, precision_nn_over, 'b', label = 'Average Precision = %0.2f' % average_precision_nn_over)\n",
    "plt.legend(loc = 'lower left')\n",
    "plt.xlim([0, 1])\n",
    "plt.ylim([0, 1])\n",
    "plt.ylabel('Precision')\n",
    "plt.xlabel('Recall')\n",
    "plt.show()"
   ]
  },
  {
   "cell_type": "code",
   "execution_count": null,
   "metadata": {},
   "outputs": [],
   "source": [
    "### SVM"
   ]
  },
  {
   "cell_type": "code",
   "execution_count": null,
   "metadata": {},
   "outputs": [],
   "source": [
    "### Undersampling"
   ]
  },
  {
   "cell_type": "code",
   "execution_count": 66,
   "metadata": {},
   "outputs": [
    {
     "data": {
      "text/plain": [
       "array([[54805,  2059],\n",
       "       [    6,    92]], dtype=int64)"
      ]
     },
     "execution_count": 66,
     "metadata": {},
     "output_type": "execute_result"
    }
   ],
   "source": [
    "c_vals     = np.power(float(10), range(-5, 7 + 1))\n",
    "gamma_vals = np.power(float(10), range(-5, 7 + 1))\n",
    "\n",
    "svm_under_cv = SVC(kernel = 'rbf', shrinking=False, probability=True)\n",
    "svm_hyperparam_dict_under = {'C': [], 'gamma': []}\n",
    "\n",
    "parameters = {\n",
    "'C': c_vals,\n",
    "'gamma': gamma_vals\n",
    "}\n",
    "\n",
    "svm_under_cv = GridSearchCV(estimator = svm_under_cv, param_grid = parameters, cv = 5)\n",
    "svm_under_cv.fit(X_train_under, y_train_under)\n",
    "\n",
    "svm_hyperparam_dict_under['C'].append(svm_under_cv.best_params_['C'])\n",
    "svm_hyperparam_dict_under['gamma'].append(svm_under_cv.best_params_['gamma'])\n",
    "\n",
    "svm_pred_cv_under = svm_under_cv.predict(X_test_under)\n",
    "confusion_matrix(y_test_under, svm_pred_cv_under)"
   ]
  },
  {
   "cell_type": "code",
   "execution_count": 67,
   "metadata": {},
   "outputs": [
    {
     "data": {
      "text/plain": [
       "{'C': [10000.0], 'gamma': [1e-05]}"
      ]
     },
     "execution_count": 67,
     "metadata": {},
     "output_type": "execute_result"
    }
   ],
   "source": [
    "svm_hyperparam_dict_under"
   ]
  },
  {
   "cell_type": "code",
   "execution_count": 71,
   "metadata": {},
   "outputs": [
    {
     "data": {
      "image/png": "[encoded data removed]",
      "text/plain": [
       "<Figure size 432x288 with 1 Axes>"
      ]
     },
     "metadata": {
      "needs_background": "light"
     },
     "output_type": "display_data"
    }
   ],
   "source": [
    "svm_pred_prob_under = svm_under_cv.predict_proba(X_test_under)[:,1]\n",
    "\n",
    "fpr_svm_under, tpr_svm_under, roc_threshold_svm_under = metrics.roc_curve(y_test_under, svm_pred_prob_under)\n",
    "roc_auc_svm_under = metrics.auc(fpr_svm_under, tpr_svm_under)\n",
    "\n",
    "plt.title('ROC of SVM with undersampling')\n",
    "plt.plot(fpr_svm_under, tpr_svm_under, 'b', label = 'AUC = %0.2f' % roc_auc_svm_under)\n",
    "plt.legend(loc = 'lower right')\n",
    "plt.plot([0, 1], [0, 1],'r--')\n",
    "plt.xlim([0, 1])\n",
    "plt.ylim([0, 1])\n",
    "plt.ylabel('True Positive Rate')\n",
    "plt.xlabel('False Positive Rate')\n",
    "plt.show()"
   ]
  },
  {
   "cell_type": "code",
   "execution_count": 82,
   "metadata": {},
   "outputs": [
    {
     "data": {
      "image/png": "[encoded data removed]",
      "text/plain": [
       "<Figure size 432x288 with 1 Axes>"
      ]
     },
     "metadata": {
      "needs_background": "light"
     },
     "output_type": "display_data"
    }
   ],
   "source": [
    "precision_svm_under, recall_svm_under, prc_threshold_svm_under = precision_recall_curve(y_test_under, svm_pred_prob_under)\n",
    "average_precision_svm_under = average_precision_score(y_test_under, svm_pred_prob_under)\n",
    "\n",
    "plt.title('PRC of svm with undersampling')\n",
    "plt.plot(recall_svm_under, precision_svm_under, 'b', label = 'Average Precision = %0.2f' % average_precision_svm_under)\n",
    "plt.legend(loc = 'lower left')\n",
    "plt.xlim([0, 1])\n",
    "plt.ylim([0, 1])\n",
    "plt.ylabel('Precision')\n",
    "plt.xlabel('Recall')\n",
    "plt.show()"
   ]
  },
  {
   "cell_type": "code",
   "execution_count": 88,
   "metadata": {},
   "outputs": [],
   "source": [
    "### Oversampling"
   ]
  },
  {
   "cell_type": "code",
   "execution_count": null,
   "metadata": {},
   "outputs": [],
   "source": [
    "svm_over_cv = SVC(kernel = 'rbf', C = 1000, gamma = 1e-05, shrinking=False, probability=True)\n",
    "svm_over_cv.fit(X_train_over, y_train_over)"
   ]
  },
  {
   "cell_type": "code",
   "execution_count": 51,
   "metadata": {},
   "outputs": [
    {
     "data": {
      "text/plain": [
       "array([[56101,   763],\n",
       "       [   10,    88]], dtype=int64)"
      ]
     },
     "execution_count": 51,
     "metadata": {},
     "output_type": "execute_result"
    }
   ],
   "source": [
    "svm_pred_cv_over = svm_over_cv.predict(X_test_over)\n",
    "confusion_matrix(y_test_over, svm_pred_cv_over)"
   ]
  },
  {
   "cell_type": "code",
   "execution_count": null,
   "metadata": {},
   "outputs": [],
   "source": [
    "svm_pred_prob_over = svm_over_cv.predict_proba(X_test_over)[:,1]\n",
    "\n",
    "fpr_svm_over, tpr_svm_over, threshold_svm_over = metrics.roc_curve(y_test_over, svm_pred_prob_over)\n",
    "roc_auc_svm_over = metrics.auc(fpr_svm_over, tpr_svm_over)\n",
    "\n",
    "plt.title('ROC of SVM with oversampling')\n",
    "plt.plot(fpr_svm_over, tpr_svm_over, 'b', label = 'AUC = %0.2f' % roc_auc_svm_over)\n",
    "plt.legend(loc = 'lower right')\n",
    "plt.plot([0, 1], [0, 1],'r--')\n",
    "plt.xlim([0, 1])\n",
    "plt.ylim([0, 1])\n",
    "plt.ylabel('True Positive Rate')\n",
    "plt.xlabel('False Positive Rate')\n",
    "plt.show()"
   ]
  },
  {
   "cell_type": "code",
   "execution_count": null,
   "metadata": {},
   "outputs": [],
   "source": [
    "precision_svm_over, recall_svm_over, threshold_svm_over = precision_recall_curve(y_test_over, svm_pred_prob_over)\n",
    "average_precision_svm_over = average_precision_score(y_test_over, svm_pred_prob_over)\n",
    "\n",
    "plt.title('PRC of SVM with oversampling')\n",
    "plt.plot(recall_svm_over, precision_svm_over, 'b', label = 'Average Precision = %0.2f' % average_precision_svm_over)\n",
    "plt.legend(loc = 'lower left')\n",
    "plt.xlim([0, 1])\n",
    "plt.ylim([0, 1])\n",
    "plt.ylabel('Precision')\n",
    "plt.xlabel('Recall')\n",
    "plt.show()"
   ]
  },
  {
   "cell_type": "code",
   "execution_count": null,
   "metadata": {},
   "outputs": [],
   "source": []
  },
  {
   "cell_type": "code",
   "execution_count": 28,
   "metadata": {},
   "outputs": [],
   "source": [
    "### Logistic regression with regularization"
   ]
  },
  {
   "cell_type": "code",
   "execution_count": 29,
   "metadata": {},
   "outputs": [],
   "source": [
    "max_iter = 1e8"
   ]
  },
  {
   "cell_type": "code",
   "execution_count": 30,
   "metadata": {},
   "outputs": [],
   "source": [
    "### Undersampling"
   ]
  },
  {
   "cell_type": "code",
   "execution_count": 31,
   "metadata": {},
   "outputs": [],
   "source": [
    "chosen_hyperparam_dict_under = {'ridge_reg': [], 'lasso_reg': []}\n",
    "\n",
    "ridge_under = LogisticRegression(penalty='l2', solver = 'lbfgs', max_iter = max_iter)\n",
    "ridge_under = GridSearchCV(estimator = ridge_under, param_grid={'C':[1e-3, 1e-2, 1e-1, 1, 1e1, 1e2, 1e3]}, cv=5)\n",
    "ridge_under.fit(X_train_under, y_train_under)\n",
    "chosen_hyperparam_dict_under['ridge_reg'].append(ridge_under.best_params_['C'])\n",
    "        \n",
    "lasso_under = LogisticRegression(penalty='l1', solver = 'saga', max_iter = max_iter)\n",
    "lasso_under = GridSearchCV(estimator = lasso_under, param_grid={'C':[1e-3, 1e-2, 1e-1, 1, 1e1, 1e2, 1e3]}, cv=5)\n",
    "lasso_under.fit(X_train_under, y_train_under)\n",
    "chosen_hyperparam_dict_under['lasso_reg'].append(lasso_under.best_params_['C'])\n",
    "\n",
    "ridge_pred_under = ridge_under.predict(X_test_under)\n",
    "lasso_pred_under = lasso_under.predict(X_test_under)"
   ]
  },
  {
   "cell_type": "code",
   "execution_count": 39,
   "metadata": {},
   "outputs": [
    {
     "data": {
      "text/plain": [
       "array([[50991,  5873],\n",
       "       [    5,    93]], dtype=int64)"
      ]
     },
     "execution_count": 39,
     "metadata": {},
     "output_type": "execute_result"
    }
   ],
   "source": [
    "confusion_matrix(y_test_under, lasso_pred_under)"
   ]
  },
  {
   "cell_type": "code",
   "execution_count": 40,
   "metadata": {},
   "outputs": [
    {
     "data": {
      "text/plain": [
       "array([[55076,  1788],\n",
       "       [    5,    93]], dtype=int64)"
      ]
     },
     "execution_count": 40,
     "metadata": {},
     "output_type": "execute_result"
    }
   ],
   "source": [
    "confusion_matrix(y_test_under, ridge_pred_under)"
   ]
  },
  {
   "cell_type": "code",
   "execution_count": 41,
   "metadata": {},
   "outputs": [
    {
     "data": {
      "text/plain": [
       "{'ridge_reg': [0.1], 'lasso_reg': [1]}"
      ]
     },
     "execution_count": 41,
     "metadata": {},
     "output_type": "execute_result"
    }
   ],
   "source": [
    "chosen_hyperparam_dict_under"
   ]
  },
  {
   "cell_type": "code",
   "execution_count": 33,
   "metadata": {
    "scrolled": false
   },
   "outputs": [
    {
     "data": {
      "image/png": "[encoded data removed]",
      "text/plain": [
       "<Figure size 432x288 with 1 Axes>"
      ]
     },
     "metadata": {
      "needs_background": "light"
     },
     "output_type": "display_data"
    },
    {
     "data": {
      "image/png": "[encoded data removed]",
      "text/plain": [
       "<Figure size 432x288 with 1 Axes>"
      ]
     },
     "metadata": {
      "needs_background": "light"
     },
     "output_type": "display_data"
    }
   ],
   "source": [
    "ridge_pred_prob_under = ridge_under.predict_proba(X_test_under)[:,1]\n",
    "lasso_pred_prob_under = lasso_under.predict_proba(X_test_under)[:,1]\n",
    "\n",
    "fpr_ridge_under, tpr_ridge_under, roc_threshold_ridge_under = metrics.roc_curve(y_test_under, ridge_pred_prob_under)\n",
    "fpr_lasso_under, tpr_lasso_under, roc_threshold_lasso_under = metrics.roc_curve(y_test_under, lasso_pred_prob_under)\n",
    "roc_auc_ridge_under = metrics.auc(fpr_ridge_under, tpr_ridge_under)\n",
    "roc_auc_lasso_under = metrics.auc(fpr_lasso_under, tpr_lasso_under)\n",
    "\n",
    "plt.title('ROC of ridge regression with undersampling')\n",
    "plt.plot(fpr_ridge_under, tpr_ridge_under, 'b', label = 'AUC = %0.2f' % roc_auc_ridge_under)\n",
    "plt.legend(loc = 'lower right')\n",
    "plt.plot([0, 1], [0, 1],'r--')\n",
    "plt.xlim([0, 1])\n",
    "plt.ylim([0, 1])\n",
    "plt.ylabel('True Positive Rate')\n",
    "plt.xlabel('False Positive Rate')\n",
    "plt.show()\n",
    "\n",
    "plt.title('ROC of lasso regression with undersampling')\n",
    "plt.plot(fpr_lasso_under, tpr_lasso_under, 'b', label = 'AUC = %0.2f' % roc_auc_lasso_under)\n",
    "plt.legend(loc = 'lower right')\n",
    "plt.plot([0, 1], [0, 1],'r--')\n",
    "plt.xlim([0, 1])\n",
    "plt.ylim([0, 1])\n",
    "plt.ylabel('True Positive Rate')\n",
    "plt.xlabel('False Positive Rate')\n",
    "plt.show()"
   ]
  },
  {
   "cell_type": "code",
   "execution_count": 83,
   "metadata": {},
   "outputs": [
    {
     "data": {
      "image/png": "[encoded data removed]",
      "text/plain": [
       "<Figure size 432x288 with 1 Axes>"
      ]
     },
     "metadata": {
      "needs_background": "light"
     },
     "output_type": "display_data"
    }
   ],
   "source": [
    "precision_ridge_under, recall_ridge_under, prc_threshold_ridge_under = precision_recall_curve(y_test_under, ridge_pred_prob_under)\n",
    "average_precision_ridge_under = average_precision_score(y_test_under, ridge_pred_prob_under)\n",
    "\n",
    "plt.title('PRC of ridge regression with undersampling')\n",
    "plt.plot(recall_ridge_under, precision_ridge_under, 'b', label = 'Average Precision = %0.2f' % average_precision_ridge_under)\n",
    "plt.legend(loc = 'lower left')\n",
    "plt.xlim([0, 1])\n",
    "plt.ylim([0, 1])\n",
    "plt.ylabel('Precision')\n",
    "plt.xlabel('Recall')\n",
    "plt.show()"
   ]
  },
  {
   "cell_type": "code",
   "execution_count": 85,
   "metadata": {},
   "outputs": [
    {
     "data": {
      "image/png": "[encoded data removed]",
      "text/plain": [
       "<Figure size 432x288 with 1 Axes>"
      ]
     },
     "metadata": {
      "needs_background": "light"
     },
     "output_type": "display_data"
    }
   ],
   "source": [
    "precision_lasso_under, recall_lasso_under, prc_threshold_lasso_under = precision_recall_curve(y_test_under, lasso_pred_prob_under)\n",
    "average_precision_lasso_under = average_precision_score(y_test_under, lasso_pred_prob_under)\n",
    "\n",
    "plt.title('PRC of lasso regression with undersampling')\n",
    "plt.plot(recall_lasso_under, precision_lasso_under, 'b', label = 'Average Precision = %0.2f' % average_precision_lasso_under)\n",
    "plt.legend(loc = 'lower left')\n",
    "plt.xlim([0, 1])\n",
    "plt.ylim([0, 1])\n",
    "plt.ylabel('Precision')\n",
    "plt.xlabel('Recall')\n",
    "plt.show()"
   ]
  },
  {
   "cell_type": "code",
   "execution_count": null,
   "metadata": {},
   "outputs": [],
   "source": []
  },
  {
   "cell_type": "code",
   "execution_count": 34,
   "metadata": {},
   "outputs": [],
   "source": [
    "### Oversampling"
   ]
  },
  {
   "cell_type": "code",
   "execution_count": 42,
   "metadata": {},
   "outputs": [],
   "source": [
    "chosen_hyperparam_dict_over = {'ridge_reg': [], 'lasso_reg': []}\n",
    "\n",
    "ridge_over = LogisticRegression(penalty='l2', solver = 'lbfgs', max_iter = max_iter)\n",
    "ridge_over = GridSearchCV(estimator = ridge_over, param_grid={'C':[1e-3, 1e-2, 1e-1, 1, 1e1, 1e2, 1e3]}, cv=5)\n",
    "ridge_over.fit(X_train_over, y_train_over)\n",
    "chosen_hyperparam_dict_over['ridge_reg'].append(ridge_over.best_params_['C'])\n",
    "        \n",
    "lasso_over = LogisticRegression(penalty='l1', solver = 'saga', max_iter = max_iter)\n",
    "lasso_over = GridSearchCV(estimator = lasso_over, param_grid={'C':[1e-3, 1e-2, 1e-1, 1, 1e1, 1e2, 1e3]}, cv=5)\n",
    "lasso_over.fit(X_train_over, y_train_over)\n",
    "chosen_hyperparam_dict_over['lasso_reg'].append(lasso_over.best_params_['C'])\n",
    "\n",
    "ridge_pred_over = ridge_over.predict(X_test_over)\n",
    "lasso_pred_over = lasso_over.predict(X_test_over)"
   ]
  },
  {
   "cell_type": "code",
   "execution_count": 43,
   "metadata": {},
   "outputs": [
    {
     "data": {
      "text/plain": [
       "array([[55499,  1365],\n",
       "       [   11,    87]], dtype=int64)"
      ]
     },
     "execution_count": 43,
     "metadata": {},
     "output_type": "execute_result"
    }
   ],
   "source": [
    "confusion_matrix(y_test_over, lasso_pred_over)"
   ]
  },
  {
   "cell_type": "code",
   "execution_count": 44,
   "metadata": {},
   "outputs": [
    {
     "data": {
      "text/plain": [
       "array([[55723,  1141],\n",
       "       [    9,    89]], dtype=int64)"
      ]
     },
     "execution_count": 44,
     "metadata": {},
     "output_type": "execute_result"
    }
   ],
   "source": [
    "confusion_matrix(y_test_over, ridge_pred_over)"
   ]
  },
  {
   "cell_type": "code",
   "execution_count": 45,
   "metadata": {},
   "outputs": [
    {
     "data": {
      "text/plain": [
       "{'ridge_reg': [10.0], 'lasso_reg': [0.1]}"
      ]
     },
     "execution_count": 45,
     "metadata": {},
     "output_type": "execute_result"
    }
   ],
   "source": [
    "chosen_hyperparam_dict_over"
   ]
  },
  {
   "cell_type": "code",
   "execution_count": 72,
   "metadata": {},
   "outputs": [
    {
     "data": {
      "image/png": "[encoded data removed]",
      "text/plain": [
       "<Figure size 432x288 with 1 Axes>"
      ]
     },
     "metadata": {
      "needs_background": "light"
     },
     "output_type": "display_data"
    },
    {
     "data": {
      "image/png": "[encoded data removed]",
      "text/plain": [
       "<Figure size 432x288 with 1 Axes>"
      ]
     },
     "metadata": {
      "needs_background": "light"
     },
     "output_type": "display_data"
    }
   ],
   "source": [
    "ridge_pred_prob_over = ridge_over.predict_proba(X_test_over)[:,1]\n",
    "lasso_pred_prob_over = lasso_over.predict_proba(X_test_over)[:,1]\n",
    "\n",
    "fpr_ridge_over, tpr_ridge_over, roc_threshold_ridge_over = metrics.roc_curve(y_test_over, ridge_pred_prob_over)\n",
    "fpr_lasso_over, tpr_lasso_over, roc_threshold_lasso_over = metrics.roc_curve(y_test_over, lasso_pred_prob_over)\n",
    "roc_auc_ridge_over = metrics.auc(fpr_ridge_over, tpr_ridge_over)\n",
    "roc_auc_lasso_over = metrics.auc(fpr_lasso_over, tpr_lasso_over)\n",
    "\n",
    "plt.title('ROC of ridge regression with oversampling')\n",
    "plt.plot(fpr_ridge_over, tpr_ridge_over, 'b', label = 'AUC = %0.2f' % roc_auc_ridge_over)\n",
    "plt.legend(loc = 'lower right')\n",
    "plt.plot([0, 1], [0, 1],'r--')\n",
    "plt.xlim([0, 1])\n",
    "plt.ylim([0, 1])\n",
    "plt.ylabel('True Positive Rate')\n",
    "plt.xlabel('False Positive Rate')\n",
    "plt.show()\n",
    "\n",
    "plt.title('ROC of lasso regression with oversampling')\n",
    "plt.plot(fpr_lasso_over, tpr_lasso_over, 'b', label = 'AUC = %0.2f' % roc_auc_lasso_over)\n",
    "plt.legend(loc = 'lower right')\n",
    "plt.plot([0, 1], [0, 1],'r--')\n",
    "plt.xlim([0, 1])\n",
    "plt.ylim([0, 1])\n",
    "plt.ylabel('True Positive Rate')\n",
    "plt.xlabel('False Positive Rate')\n",
    "plt.show()"
   ]
  },
  {
   "cell_type": "code",
   "execution_count": 86,
   "metadata": {},
   "outputs": [
    {
     "data": {
      "image/png": "[encoded data removed]",
      "text/plain": [
       "<Figure size 432x288 with 1 Axes>"
      ]
     },
     "metadata": {
      "needs_background": "light"
     },
     "output_type": "display_data"
    }
   ],
   "source": [
    "precision_ridge_over, recall_ridge_over, prc_threshold_ridge_over = precision_recall_curve(y_test_over, ridge_pred_prob_over)\n",
    "average_precision_ridge_over = average_precision_score(y_test_over, ridge_pred_prob_over)\n",
    "\n",
    "plt.title('PRC of ridge regression with oversampling')\n",
    "plt.plot(recall_ridge_over, precision_ridge_over, 'b', label = 'Average Precision = %0.2f' % average_precision_ridge_over)\n",
    "plt.legend(loc = 'lower left')\n",
    "plt.xlim([0, 1])\n",
    "plt.ylim([0, 1])\n",
    "plt.ylabel('Precision')\n",
    "plt.xlabel('Recall')\n",
    "plt.show()"
   ]
  },
  {
   "cell_type": "code",
   "execution_count": 87,
   "metadata": {
    "scrolled": true
   },
   "outputs": [
    {
     "data": {
      "image/png": "[encoded data removed]",
      "text/plain": [
       "<Figure size 432x288 with 1 Axes>"
      ]
     },
     "metadata": {
      "needs_background": "light"
     },
     "output_type": "display_data"
    }
   ],
   "source": [
    "precision_lasso_over, recall_lasso_over, prc_threshold_lasso_over = precision_recall_curve(y_test_over, lasso_pred_prob_over)\n",
    "average_precision_lasso_over = average_precision_score(y_test_over, lasso_pred_prob_over)\n",
    "\n",
    "plt.title('PRC of lasso regression with oversampling')\n",
    "plt.plot(recall_lasso_over, precision_lasso_over, 'b', label = 'Average Precision = %0.2f' % average_precision_lasso_over)\n",
    "plt.legend(loc = 'lower left')\n",
    "plt.xlim([0, 1])\n",
    "plt.ylim([0, 1])\n",
    "plt.ylabel('Precision')\n",
    "plt.xlabel('Recall')\n",
    "plt.show()"
   ]
  },
  {
   "cell_type": "code",
   "execution_count": null,
   "metadata": {},
   "outputs": [],
   "source": []
  },
  {
   "cell_type": "code",
   "execution_count": null,
   "metadata": {},
   "outputs": [],
   "source": []
  },
  {
   "cell_type": "code",
   "execution_count": null,
   "metadata": {},
   "outputs": [],
   "source": []
  },
  {
   "cell_type": "code",
   "execution_count": null,
   "metadata": {},
   "outputs": [],
   "source": []
  },
  {
   "cell_type": "code",
   "execution_count": null,
   "metadata": {},
   "outputs": [],
   "source": []
  },
  {
   "cell_type": "code",
   "execution_count": null,
   "metadata": {},
   "outputs": [],
   "source": []
  },
  {
   "cell_type": "code",
   "execution_count": null,
   "metadata": {},
   "outputs": [],
   "source": []
  },
  {
   "cell_type": "code",
   "execution_count": null,
   "metadata": {},
   "outputs": [],
   "source": []
  },
  {
   "cell_type": "code",
   "execution_count": null,
   "metadata": {},
   "outputs": [],
   "source": []
  },
  {
   "cell_type": "code",
   "execution_count": null,
   "metadata": {},
   "outputs": [],
   "source": [
    "### F1 score"
   ]
  },
  {
   "cell_type": "code",
   "execution_count": null,
   "metadata": {},
   "outputs": [],
   "source": [
    "### Ridge - undersampling\n",
    "ridge_f1_values_under = []\n",
    "for i in range(len(precision_ridge_under)):\n",
    "    ridge_f1_under = 2*precision_ridge_under[i]*recall_ridge_under[i]/(precision_ridge_under[i]+recall_ridge_under[i])\n",
    "    ridge_f1_values_under.append(ridge_f1_under)\n",
    "\n",
    "max_ridge_f1_index_under = ridge_f1_values_under.index(max(ridge_f1_values_under)) \n",
    "max_ridge_f1_threshold_under = prc_ridge_thresholds_under[max_ridge_f1_index_under]\n",
    "print('Threshold with the maximum F1 score of ridge regularization of undersampling: ', max_ridge_f1_threshold_under)"
   ]
  },
  {
   "cell_type": "code",
   "execution_count": null,
   "metadata": {},
   "outputs": [],
   "source": [
    "### Ridge - oversampling\n",
    "ridge_f1_values_over = []\n",
    "for i in range(len(precision_ridge_over)):\n",
    "    ridge_f1_over = 2*precision_ridge_over[i]*recall_ridge_over[i]/(precision_ridge_over[i]+recall_ridge_over[i])\n",
    "    ridge_f1_values_over.append(ridge_f1_over)\n",
    "\n",
    "max_ridge_f1_index_over = ridge_f1_values_over.index(max(ridge_f1_values_over)) \n",
    "max_ridge_f1_threshold_over = prc_ridge_thresholds_over[max_ridge_f1_index_over]\n",
    "print('Threshold with the maximum F1 score of ridge regularization of oversampling: ', max_ridge_f1_threshold_over)"
   ]
  },
  {
   "cell_type": "code",
   "execution_count": null,
   "metadata": {},
   "outputs": [],
   "source": []
  },
  {
   "cell_type": "code",
   "execution_count": null,
   "metadata": {},
   "outputs": [],
   "source": [
    "### Lasso - undersampling\n",
    "lasso_f1_values_under = []\n",
    "for i in range(len(precision_lasso_under)):\n",
    "    lasso_f1_under = 2*precision_lasso_under[i]*recall_lasso_under[i]/(precision_lasso_under[i]+recall_lasso_under[i])\n",
    "    lasso_f1_values_under.append(lasso_f1_under)\n",
    "\n",
    "max_lasso_f1_index_under = lasso_f1_values_under.index(max(lasso_f1_values_under)) \n",
    "max_lasso_f1_threshold_under = prc_threshold_lasso_under[max_lasso_f1_index_under]\n",
    "print('Threshold with the maximum F1 score of lasso regularization of undersampling: ', max_lasso_f1_threshold_under)"
   ]
  },
  {
   "cell_type": "code",
   "execution_count": null,
   "metadata": {},
   "outputs": [],
   "source": [
    "### Lasso - oversampling\n",
    "lasso_f1_values_over = []\n",
    "for i in range(len(precision_lasso_over)):\n",
    "    lasso_f1_over = 2*precision_lasso_over[i]*recall_lasso_over[i]/(precision_lasso_over[i]+recall_lasso_over[i])\n",
    "    lasso_f1_values_over.append(lasso_f1_over)\n",
    "\n",
    "max_lasso_f1_index_over = lasso_f1_values_over.index(max(lasso_f1_values_over)) \n",
    "max_lasso_f1_threshold_over = prc_threshold_lasso_over[max_lasso_f1_index_over]\n",
    "print('Threshold with the maximum F1 score of lasso regularization of oversampling: ', max_lasso_f1_threshold_over)"
   ]
  },
  {
   "cell_type": "code",
   "execution_count": null,
   "metadata": {},
   "outputs": [],
   "source": []
  },
  {
   "cell_type": "code",
   "execution_count": null,
   "metadata": {},
   "outputs": [],
   "source": [
    "### Neural network - undersampling\n",
    "nn_f1_values_under = []\n",
    "for i in range(len(precision_nn_under)):\n",
    "    nn_f1_under = 2*precision_nn_under[i]*recall_nn_under[i]/(precision_nn_under[i]+recall_nn_under[i])\n",
    "    nn_f1_values_under.append(nn_f1_under)\n",
    "\n",
    "max_nn_f1_index_under = nn_f1_values_under.index(max(nn_f1_values_under)) \n",
    "max_nn_f1_threshold_under = prc_nn_thresholds_under[max_nn_f1_index_under]\n",
    "print('Threshold with the maximum F1 score of neural network of undersampling: ', max_nn_f1_threshold_under)"
   ]
  },
  {
   "cell_type": "code",
   "execution_count": null,
   "metadata": {},
   "outputs": [],
   "source": [
    "### Neural network - oversampling\n",
    "nn_f1_values_over = []\n",
    "for i in range(len(precision_nn_over)):\n",
    "    nn_f1_over = 2*precision_nn_over[i]*recall_nn_over[i]/(precision_nn_over[i]+recall_nn_over[i])\n",
    "    nn_f1_values_over.append(nn_f1_over)\n",
    "\n",
    "max_nn_f1_index_over = nn_f1_values_over.index(max(nn_f1_values_over)) \n",
    "max_nn_f1_threshold_over = prc_nn_thresholds_over[max_nn_f1_index_over]\n",
    "print('Threshold with the maximum F1 score of neural network of oversampling: ', max_nn_f1_threshold_over)"
   ]
  },
  {
   "cell_type": "code",
   "execution_count": null,
   "metadata": {},
   "outputs": [],
   "source": []
  },
  {
   "cell_type": "code",
   "execution_count": null,
   "metadata": {},
   "outputs": [],
   "source": [
    "### SVM - undersampling\n",
    "svm_f1_values_under = []\n",
    "for i in range(len(precision_svm_under)):\n",
    "    svm_f1_under = 2*precision_svm_under[i]*recall_svm_under[i]/(precision_svm_under[i]+recall_svm_under[i])\n",
    "    svm_f1_values_under.append(svm_f1_under)\n",
    "\n",
    "max_svm_f1_index_under = svm_f1_values_under.index(max(svm_f1_values_under)) \n",
    "max_svm_f1_threshold_under = prc_svm_thresholds_under[max_svm_f1_index_under]\n",
    "print('Threshold with the maximum F1 score of svm of undersampling: ', max_svm_f1_threshold_under)"
   ]
  },
  {
   "cell_type": "code",
   "execution_count": null,
   "metadata": {},
   "outputs": [],
   "source": [
    "### SVM - oversampling\n",
    "svm_f1_values_over = []\n",
    "for i in range(len(precision_svm_over)):\n",
    "    svm_f1_over = 2*precision_svm_over[i]*recall_svm_over[i]/(precision_svm_over[i]+recall_svm_over[i])\n",
    "    svm_f1_values_over.append(svm_f1_over)\n",
    "\n",
    "max_svm_f1_index_over = svm_f1_values_over.index(max(svm_f1_values_over)) \n",
    "max_svm_f1_threshold_over = prc_svm_thresholds_over[max_svm_f1_index_over]\n",
    "print('Threshold with the maximum F1 score of svm of oversampling: ', max_svm_f1_threshold_over)"
   ]
  },
  {
   "cell_type": "code",
   "execution_count": null,
   "metadata": {},
   "outputs": [],
   "source": []
  },
  {
   "cell_type": "code",
   "execution_count": null,
   "metadata": {},
   "outputs": [],
   "source": []
  },
  {
   "cell_type": "code",
   "execution_count": null,
   "metadata": {},
   "outputs": [],
   "source": []
  },
  {
   "cell_type": "code",
   "execution_count": null,
   "metadata": {},
   "outputs": [],
   "source": []
  },
  {
   "cell_type": "code",
   "execution_count": null,
   "metadata": {},
   "outputs": [],
   "source": []
  },
  {
   "cell_type": "code",
   "execution_count": null,
   "metadata": {},
   "outputs": [],
   "source": [
    "### Fit model using original data"
   ]
  },
  {
   "cell_type": "code",
   "execution_count": 7,
   "metadata": {},
   "outputs": [],
   "source": [
    "X_train_original, X_test_original, y_train_original, y_test_original = train_test_split(X, y, stratify = y, test_size = 0.2)"
   ]
  },
  {
   "cell_type": "code",
   "execution_count": 8,
   "metadata": {},
   "outputs": [],
   "source": [
    "### Neural network - using original data"
   ]
  },
  {
   "cell_type": "code",
   "execution_count": 9,
   "metadata": {},
   "outputs": [
    {
     "data": {
      "text/plain": [
       "array([[56851,    13],\n",
       "       [   17,    81]], dtype=int64)"
      ]
     },
     "execution_count": 9,
     "metadata": {},
     "output_type": "execute_result"
    }
   ],
   "source": [
    "nn_original = MLPClassifier(activation='logistic', solver='adam', alpha=1e-4, hidden_layer_sizes=(24,18), random_state=1)\n",
    "nn_original.fit(X_train_original, y_train_original)\n",
    "y_pred_original = nn_original.predict(X_test_original)\n",
    "confusion_matrix(y_test_original, y_pred_original)"
   ]
  },
  {
   "cell_type": "code",
   "execution_count": 20,
   "metadata": {},
   "outputs": [
    {
     "data": {
      "image/png": "[encoded data removed]",
      "text/plain": [
       "<Figure size 432x288 with 1 Axes>"
      ]
     },
     "metadata": {
      "needs_background": "light"
     },
     "output_type": "display_data"
    }
   ],
   "source": [
    "nn_pred_prob_original = nn_original.predict_proba(X_test_original)[:,1]\n",
    "\n",
    "fpr_nn_original, tpr_nn_original, roc_threshold_nn_original = metrics.roc_curve(y_test_original, nn_pred_prob_original)\n",
    "roc_auc_nn_original = metrics.auc(fpr_nn_original, tpr_nn_original)\n",
    "\n",
    "plt.title('ROC of neural network with original data')\n",
    "plt.plot(fpr_nn_original, tpr_nn_original, 'b', label = 'AUC = %0.2f' % roc_auc_nn_original)\n",
    "plt.legend(loc = 'lower right')\n",
    "plt.plot([0, 1], [0, 1],'r--')\n",
    "plt.xlim([0, 1])\n",
    "plt.ylim([0, 1])\n",
    "plt.ylabel('True Positive Rate')\n",
    "plt.xlabel('False Positive Rate')\n",
    "plt.show()"
   ]
  },
  {
   "cell_type": "code",
   "execution_count": 21,
   "metadata": {},
   "outputs": [
    {
     "data": {
      "image/png": "[encoded data removed]",
      "text/plain": [
       "<Figure size 432x288 with 1 Axes>"
      ]
     },
     "metadata": {
      "needs_background": "light"
     },
     "output_type": "display_data"
    }
   ],
   "source": [
    "precision_nn_original, recall_nn_original, prc_threshold_nn_original = precision_recall_curve(y_test_original, nn_pred_prob_original)\n",
    "average_precision_nn_original = average_precision_score(y_test_original, nn_pred_prob_original)\n",
    "\n",
    "plt.title('PRC of neural network with original data')\n",
    "plt.plot(recall_nn_original, precision_nn_original, 'b', label = 'Average Precision = %0.2f' % average_precision_nn_original)\n",
    "plt.legend(loc = 'lower left')\n",
    "plt.xlim([0, 1])\n",
    "plt.ylim([0, 1])\n",
    "plt.ylabel('Precision')\n",
    "plt.xlabel('Recall')\n",
    "plt.show()"
   ]
  },
  {
   "cell_type": "code",
   "execution_count": 22,
   "metadata": {},
   "outputs": [
    {
     "name": "stdout",
     "output_type": "stream",
     "text": [
      "Threshold with the maximum F1 score of neural network of original data:  0.27264955977033617\n"
     ]
    }
   ],
   "source": [
    "nn_f1_values_original = []\n",
    "for i in range(len(precision_nn_original)):\n",
    "    nn_f1_original = 2*precision_nn_original[i]*recall_nn_original[i]/(precision_nn_original[i]+recall_nn_original[i])\n",
    "    nn_f1_values_original.append(nn_f1_original)\n",
    "\n",
    "max_nn_f1_index_original = nn_f1_values_original.index(max(nn_f1_values_original)) \n",
    "max_nn_f1_threshold_original = prc_threshold_nn_original[max_nn_f1_index_original]\n",
    "print('Threshold with the maximum F1 score of neural network of original data: ', max_nn_f1_threshold_original)"
   ]
  },
  {
   "cell_type": "code",
   "execution_count": null,
   "metadata": {},
   "outputs": [],
   "source": []
  },
  {
   "cell_type": "code",
   "execution_count": null,
   "metadata": {},
   "outputs": [],
   "source": []
  },
  {
   "cell_type": "code",
   "execution_count": null,
   "metadata": {},
   "outputs": [],
   "source": [
    "### SVM - using original data"
   ]
  },
  {
   "cell_type": "code",
   "execution_count": null,
   "metadata": {},
   "outputs": [],
   "source": [
    "svm_original = SVC(kernel = 'rbf', C = 1000, gamma = 1e-05, shrinking=False, probability=True)\n",
    "svm_original.fit(X_train_original, y_train_original)\n",
    "svm_pred_original = svm_original.predict(X_test_original)\n",
    "confusion_matrix(y_test_original, svm_pred_original)"
   ]
  },
  {
   "cell_type": "code",
   "execution_count": null,
   "metadata": {},
   "outputs": [],
   "source": [
    "svm_pred_prob_original = svm_original.predict_proba(X_test_original)[:,1]\n",
    "\n",
    "fpr_svm_original, tpr_svm_original, roc_threshold_svm_original = metrics.roc_curve(y_test_original, svm_pred_prob_original)\n",
    "roc_auc_svm_original = metrics.auc(fpr_svm_original, tpr_svm_original)\n",
    "\n",
    "plt.title('ROC of SVM with original data')\n",
    "plt.plot(fpr_svm_original, tpr_svm_original, 'b', label = 'AUC = %0.2f' % roc_auc_svm_original)\n",
    "plt.legend(loc = 'lower right')\n",
    "plt.plot([0, 1], [0, 1],'r--')\n",
    "plt.xlim([0, 1])\n",
    "plt.ylim([0, 1])\n",
    "plt.ylabel('True Positive Rate')\n",
    "plt.xlabel('False Positive Rate')\n",
    "plt.show()"
   ]
  },
  {
   "cell_type": "code",
   "execution_count": null,
   "metadata": {},
   "outputs": [],
   "source": [
    "precision_svm_original, recall_svm_original, prc_threshold_svm_original = precision_recall_curve(y_test_original, svm_pred_prob_original)\n",
    "average_precision_svm_original = average_precision_score(y_test_original, svm_pred_prob_original)\n",
    "\n",
    "plt.title('PRC of SVM with originalsampling')\n",
    "plt.plot(recall_svm_original, precision_svm_original, 'b', label = 'Average Precision = %0.2f' % average_precision_svm_original)\n",
    "plt.legend(loc = 'lower left')\n",
    "plt.xlim([0, 1])\n",
    "plt.ylim([0, 1])\n",
    "plt.ylabel('Precision')\n",
    "plt.xlabel('Recall')\n",
    "plt.show()"
   ]
  },
  {
   "cell_type": "code",
   "execution_count": null,
   "metadata": {},
   "outputs": [],
   "source": [
    "svm_f1_values_original = []\n",
    "for i in range(len(precision_svm_original)):\n",
    "    svm_f1_original = 2*precision_svm_original[i]*recall_svm_original[i]/(precision_svm_original[i]+recall_svm_original[i])\n",
    "    svm_f1_values_original.append(svm_f1_original)\n",
    "\n",
    "max_svm_f1_index_original = svm_f1_values_original.index(max(svm_f1_values_original)) \n",
    "max_svm_f1_threshold_original = prc_svm_thresholds_original[max_svm_f1_index_original]\n",
    "print('Threshold with the maximum F1 score of svm of original data: ', max_svm_f1_threshold_original)"
   ]
  },
  {
   "cell_type": "code",
   "execution_count": null,
   "metadata": {},
   "outputs": [],
   "source": []
  },
  {
   "cell_type": "code",
   "execution_count": null,
   "metadata": {},
   "outputs": [],
   "source": []
  },
  {
   "cell_type": "code",
   "execution_count": null,
   "metadata": {},
   "outputs": [],
   "source": [
    "### Ridge regression - using original data"
   ]
  },
  {
   "cell_type": "code",
   "execution_count": null,
   "metadata": {},
   "outputs": [],
   "source": [
    "### Lasso regression - using original data"
   ]
  },
  {
   "cell_type": "code",
   "execution_count": 23,
   "metadata": {},
   "outputs": [
    {
     "ename": "NameError",
     "evalue": "name 'max_iter' is not defined",
     "output_type": "error",
     "traceback": [
      "\u001b[1;31m---------------------------------------------------------------------------\u001b[0m",
      "\u001b[1;31mNameError\u001b[0m                                 Traceback (most recent call last)",
      "\u001b[1;32m<ipython-input-23-f9515bb003c2>\u001b[0m in \u001b[0;36m<module>\u001b[1;34m\u001b[0m\n\u001b[0;32m      1\u001b[0m \u001b[0mchosen_hyperparam_dict_original\u001b[0m \u001b[1;33m=\u001b[0m \u001b[1;33m{\u001b[0m\u001b[1;34m'ridge_reg'\u001b[0m\u001b[1;33m:\u001b[0m \u001b[1;33m[\u001b[0m\u001b[1;33m]\u001b[0m\u001b[1;33m,\u001b[0m \u001b[1;34m'lasso_reg'\u001b[0m\u001b[1;33m:\u001b[0m \u001b[1;33m[\u001b[0m\u001b[1;33m]\u001b[0m\u001b[1;33m}\u001b[0m\u001b[1;33m\u001b[0m\u001b[1;33m\u001b[0m\u001b[0m\n\u001b[0;32m      2\u001b[0m \u001b[1;33m\u001b[0m\u001b[0m\n\u001b[1;32m----> 3\u001b[1;33m \u001b[0mridge_original\u001b[0m \u001b[1;33m=\u001b[0m \u001b[0mLogisticRegression\u001b[0m\u001b[1;33m(\u001b[0m\u001b[0mpenalty\u001b[0m\u001b[1;33m=\u001b[0m\u001b[1;34m'l2'\u001b[0m\u001b[1;33m,\u001b[0m \u001b[0msolver\u001b[0m \u001b[1;33m=\u001b[0m \u001b[1;34m'lbfgs'\u001b[0m\u001b[1;33m,\u001b[0m \u001b[0mmax_iter\u001b[0m \u001b[1;33m=\u001b[0m \u001b[0mmax_iter\u001b[0m\u001b[1;33m)\u001b[0m\u001b[1;33m\u001b[0m\u001b[1;33m\u001b[0m\u001b[0m\n\u001b[0m\u001b[0;32m      4\u001b[0m \u001b[0mridge_original\u001b[0m \u001b[1;33m=\u001b[0m \u001b[0mGridSearchCV\u001b[0m\u001b[1;33m(\u001b[0m\u001b[0mestimator\u001b[0m \u001b[1;33m=\u001b[0m \u001b[0mridge_original\u001b[0m\u001b[1;33m,\u001b[0m \u001b[0mparam_grid\u001b[0m\u001b[1;33m=\u001b[0m\u001b[1;33m{\u001b[0m\u001b[1;34m'C'\u001b[0m\u001b[1;33m:\u001b[0m\u001b[1;33m[\u001b[0m\u001b[1;36m1e-1\u001b[0m\u001b[1;33m,\u001b[0m \u001b[1;36m1\u001b[0m\u001b[1;33m,\u001b[0m \u001b[1;36m1e1\u001b[0m\u001b[1;33m]\u001b[0m\u001b[1;33m}\u001b[0m\u001b[1;33m,\u001b[0m \u001b[0mcv\u001b[0m\u001b[1;33m=\u001b[0m\u001b[1;36m5\u001b[0m\u001b[1;33m)\u001b[0m\u001b[1;33m\u001b[0m\u001b[1;33m\u001b[0m\u001b[0m\n\u001b[0;32m      5\u001b[0m \u001b[0mridge_original\u001b[0m\u001b[1;33m.\u001b[0m\u001b[0mfit\u001b[0m\u001b[1;33m(\u001b[0m\u001b[0mX_train_original\u001b[0m\u001b[1;33m,\u001b[0m \u001b[0my_train_original\u001b[0m\u001b[1;33m)\u001b[0m\u001b[1;33m\u001b[0m\u001b[1;33m\u001b[0m\u001b[0m\n",
      "\u001b[1;31mNameError\u001b[0m: name 'max_iter' is not defined"
     ]
    }
   ],
   "source": [
    "chosen_hyperparam_dict_original = {'ridge_reg': [], 'lasso_reg': []}\n",
    "\n",
    "ridge_original = LogisticRegression(penalty='l2', solver = 'lbfgs', max_iter = max_iter)\n",
    "ridge_original = GridSearchCV(estimator = ridge_original, param_grid={'C':[1e-1, 1, 1e1]}, cv=5)\n",
    "ridge_original.fit(X_train_original, y_train_original)\n",
    "chosen_hyperparam_dict_original['ridge_reg'].append(ridge_original.best_params_['C'])\n",
    "        \n",
    "lasso_original = LogisticRegression(penalty='l1', solver = 'saga', max_iter = max_iter)\n",
    "lasso_original = GridSearchCV(estimator = lasso_original, param_grid={'C':[1e-1, 1, 1e1]}, cv=5)\n",
    "lasso_original.fit(X_train_original, y_train_original)\n",
    "chosen_hyperparam_dict_original['lasso_reg'].append(lasso_original.best_params_['C'])\n",
    "\n",
    "ridge_pred_original = ridge_original.predict(X_test_original)\n",
    "lasso_pred_original = lasso_original.predict(X_test_original)"
   ]
  },
  {
   "cell_type": "code",
   "execution_count": null,
   "metadata": {},
   "outputs": [],
   "source": [
    "ridge_pred_prob_original = ridge_original.predict_proba(X_test_original)[:,1]\n",
    "lasso_pred_prob_original = lasso_original.predict_proba(X_test_original)[:,1]\n",
    "\n",
    "fpr_ridge_original, tpr_ridge_original, roc_threshold_ridge_original = metrics.roc_curve(y_test_original, ridge_pred_prob_original)\n",
    "fpr_lasso_original, tpr_lasso_original, roc_threshold_lasso_original = metrics.roc_curve(y_test_original, lasso_pred_prob_original)\n",
    "roc_auc_ridge_original = metrics.auc(fpr_ridge_original, tpr_ridge_original)\n",
    "roc_auc_lasso_original = metrics.auc(fpr_lasso_original, tpr_lasso_original)\n",
    "\n",
    "plt.title('ROC of ridge regression with original data')\n",
    "plt.plot(fpr_ridge_original, tpr_ridge_original, 'b', label = 'AUC = %0.2f' % roc_auc_ridge_original)\n",
    "plt.legend(loc = 'lower right')\n",
    "plt.plot([0, 1], [0, 1],'r--')\n",
    "plt.xlim([0, 1])\n",
    "plt.ylim([0, 1])\n",
    "plt.ylabel('True Positive Rate')\n",
    "plt.xlabel('False Positive Rate')\n",
    "plt.show()\n",
    "\n",
    "plt.title('ROC of lasso regression with original data')\n",
    "plt.plot(fpr_lasso_original, tpr_lasso_original, 'b', label = 'AUC = %0.2f' % roc_auc_lasso_original)\n",
    "plt.legend(loc = 'lower right')\n",
    "plt.plot([0, 1], [0, 1],'r--')\n",
    "plt.xlim([0, 1])\n",
    "plt.ylim([0, 1])\n",
    "plt.ylabel('True Positive Rate')\n",
    "plt.xlabel('False Positive Rate')\n",
    "plt.show()"
   ]
  },
  {
   "cell_type": "code",
   "execution_count": null,
   "metadata": {},
   "outputs": [],
   "source": [
    "precision_ridge_original, recall_ridge_original, prc_threshold_ridge_original = precision_recall_curve(y_test_original, ridge_pred_prob_original)\n",
    "average_precision_ridge_original = average_precision_score(y_test_original, ridge_pred_prob_original)\n",
    "\n",
    "plt.title('PRC of ridge regression with original data')\n",
    "plt.plot(recall_ridge_original, precision_ridge_original, 'b', label = 'Average Precision = %0.2f' % average_precision_ridge_original)\n",
    "plt.legend(loc = 'lower left')\n",
    "plt.xlim([0, 1])\n",
    "plt.ylim([0, 1])\n",
    "plt.ylabel('Precision')\n",
    "plt.xlabel('Recall')\n",
    "plt.show()"
   ]
  },
  {
   "cell_type": "code",
   "execution_count": null,
   "metadata": {},
   "outputs": [],
   "source": [
    "precision_lasso_original, recall_lasso_original, prc_threshold_lasso_original = precision_recall_curve(y_test_original, lasso_pred_prob_original)\n",
    "average_precision_lasso_original = average_precision_score(y_test_original, lasso_pred_prob_original)\n",
    "\n",
    "plt.title('PRC of lasso regression with original data')\n",
    "plt.plot(recall_lasso_original, precision_lasso_original, 'b', label = 'Average Precision = %0.2f' % average_precision_lasso_original)\n",
    "plt.legend(loc = 'lower left')\n",
    "plt.xlim([0, 1])\n",
    "plt.ylim([0, 1])\n",
    "plt.ylabel('Precision')\n",
    "plt.xlabel('Recall')\n",
    "plt.show()"
   ]
  },
  {
   "cell_type": "code",
   "execution_count": null,
   "metadata": {},
   "outputs": [],
   "source": [
    "ridge_f1_values_original = []\n",
    "for i in range(len(precision_ridge_original)):\n",
    "    ridge_f1_original = 2*precision_ridge_original[i]*recall_ridge_original[i]/(precision_ridge_original[i]+recall_ridge_original[i])\n",
    "    ridge_f1_values_original.append(ridge_f1_original)\n",
    "\n",
    "max_ridge_f1_index_original = ridge_f1_values_original.index(max(ridge_f1_values_original)) \n",
    "max_ridge_f1_threshold_original = prc_ridge_thresholds_original[max_ridge_f1_index_original]\n",
    "print('Threshold with the maximum F1 score of ridge regularization of original data: ', max_ridge_f1_threshold_original)"
   ]
  },
  {
   "cell_type": "code",
   "execution_count": null,
   "metadata": {},
   "outputs": [],
   "source": [
    "lasso_f1_values_original = []\n",
    "for i in range(len(precision_lasso_original)):\n",
    "    lasso_f1_original = 2*precision_lasso_original[i]*recall_lasso_original[i]/(precision_lasso_original[i]+recall_lasso_original[i])\n",
    "    lasso_f1_values_original.append(lasso_f1_original)\n",
    "\n",
    "max_lasso_f1_index_original = lasso_f1_values_original.index(max(lasso_f1_values_original)) \n",
    "max_lasso_f1_threshold_original = prc_lasso_thresholds_original[max_lasso_f1_index_original]\n",
    "print('Threshold with the maximum F1 score of lasso regularization of original data: ', max_lasso_f1_threshold_original)"
   ]
  }
 ],
 "metadata": {
  "kernelspec": {
   "display_name": "Python 3",
   "language": "python",
   "name": "python3"
  },
  "language_info": {
   "codemirror_mode": {
    "name": "ipython",
    "version": 3
   },
   "file_extension": ".py",
   "mimetype": "text/x-python",
   "name": "python",
   "nbconvert_exporter": "python",
   "pygments_lexer": "ipython3",
   "version": "3.7.3"
  }
 },
 "nbformat": 4,
 "nbformat_minor": 2
}
